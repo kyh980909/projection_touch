{
 "cells": [
  {
   "cell_type": "code",
   "execution_count": 3,
   "metadata": {},
   "outputs": [],
   "source": [
    "import torch\n",
    "import torch.nn as nn\n",
    "import torch.nn.functional as F\n",
    "import torch.optim as optim\n",
    "from torch.utils.data import DataLoader, TensorDataset\n",
    "from sklearn.model_selection import train_test_split\n",
    "# from torchsummaryX import summary\n",
    "import numpy as np\n",
    "import matplotlib.pyplot as plt\n",
    "import os"
   ]
  },
  {
   "cell_type": "code",
   "execution_count": 4,
   "metadata": {},
   "outputs": [],
   "source": [
    "# PyTorch 모델 정의\n",
    "class LSTMModel(nn.Module):\n",
    "    def __init__(self, input_size, hidden_size, num_classes):\n",
    "        super(LSTMModel, self).__init__()\n",
    "        self.lstm = nn.LSTM(input_size, hidden_size, batch_first=True)\n",
    "        self.fc1 = nn.Linear(hidden_size, 32)\n",
    "        self.fc2 = nn.Linear(32, 32)\n",
    "        self.fc3 = nn.Linear(32, num_classes)\n",
    "\n",
    "    def forward(self, x):\n",
    "        lstm_out, _ = self.lstm(x)\n",
    "\n",
    "        x = lstm_out[:, -1, :]\n",
    "        x = F.relu(self.fc1(x))\n",
    "        x = F.relu(self.fc2(x))\n",
    "        x = F.softmax(self.fc3(x), dim=1)\n",
    "\n",
    "        return x"
   ]
  },
  {
   "cell_type": "code",
   "execution_count": 5,
   "metadata": {},
   "outputs": [],
   "source": [
    "# Hyperparameters\n",
    "timesteps = 30\n",
    "features = 99\n",
    "num_classes = 4\n",
    "batch_size = 32\n",
    "epochs = 30\n",
    "learning_rate = 0.001"
   ]
  },
  {
   "cell_type": "code",
   "execution_count": 6,
   "metadata": {},
   "outputs": [
    {
     "data": {
      "text/plain": [
       "['seq_power off_1.npy',\n",
       " 'seq_click_1.npy',\n",
       " 'raw_power off_1.npy',\n",
       " 'seq_click_2.npy',\n",
       " 'raw_wait_1.npy',\n",
       " 'raw_click_1.npy',\n",
       " 'raw_click_2.npy',\n",
       " 'raw_power on_1.npy',\n",
       " 'seq_wait_1.npy',\n",
       " 'seq_power on_1.npy']"
      ]
     },
     "execution_count": 6,
     "metadata": {},
     "output_type": "execute_result"
    }
   ],
   "source": [
    "os.listdir('dataset')"
   ]
  },
  {
   "cell_type": "code",
   "execution_count": 7,
   "metadata": {},
   "outputs": [
    {
     "name": "stdout",
     "output_type": "stream",
     "text": [
      "x_batch: torch.Size([32, 30, 99]), y_batch: torch.Size([32])\n"
     ]
    }
   ],
   "source": [
    "# 액션 리스트\n",
    "actions = ['click', 'wait', 'power on', 'power off']\n",
    "\n",
    "# 데이터 로드\n",
    "data = np.concatenate([\n",
    "    np.load('dataset/seq_click_1.npy'),\n",
    "    np.load('dataset/seq_power off_1.npy'),\n",
    "    np.load('dataset/seq_power on_1.npy'),\n",
    "    np.load('dataset/seq_wait_1.npy')\n",
    "], axis=0)\n",
    "\n",
    "# 입력 데이터 (x_data)와 라벨 (labels) 분리\n",
    "x_data = data[:, :, :-1]\n",
    "labels = data[:, 0, -1]\n",
    "\n",
    "# Tensor로 변환\n",
    "x_data = x_data.astype(np.float32)  # 입력 데이터를 float32로 변환\n",
    "labels = labels.astype(np.int64)    # 라벨 데이터를 int64로 변환 (PyTorch에서는 Long 타입 필요)\n",
    "\n",
    "# 학습용 데이터와 검증용 데이터 분리\n",
    "x_train, x_val, y_train, y_val = train_test_split(x_data, labels, test_size=0.1, random_state=42)\n",
    "\n",
    "# PyTorch Tensor로 변환\n",
    "x_train_tensor = torch.tensor(x_train)\n",
    "y_train_tensor = torch.tensor(y_train)\n",
    "x_val_tensor = torch.tensor(x_val)\n",
    "y_val_tensor = torch.tensor(y_val)\n",
    "\n",
    "# TensorDataset을 사용해 PyTorch 데이터셋 생성\n",
    "train_dataset = TensorDataset(x_train_tensor, y_train_tensor)\n",
    "val_dataset = TensorDataset(x_val_tensor, y_val_tensor)\n",
    "\n",
    "# DataLoader로 데이터셋을 배치 단위로 처리\n",
    "batch_size = 32\n",
    "train_loader = DataLoader(dataset=train_dataset, batch_size=batch_size, shuffle=True)\n",
    "val_loader = DataLoader(dataset=val_dataset, batch_size=batch_size, shuffle=False)\n",
    "\n",
    "# DataLoader가 정상적으로 준비되었는지 확인\n",
    "for x_batch, y_batch in train_loader:\n",
    "    print(f\"x_batch: {x_batch.shape}, y_batch: {y_batch.shape}\")\n",
    "    break"
   ]
  },
  {
   "cell_type": "code",
   "execution_count": 8,
   "metadata": {},
   "outputs": [],
   "source": [
    "# 모델, 손실 함수, 옵티마이저 정의\n",
    "model = LSTMModel(input_size=features, hidden_size=64, num_classes=num_classes).to('cuda' if torch.cuda.is_available() else 'cpu')\n",
    "criterion = nn.CrossEntropyLoss()\n",
    "optimizer = optim.Adam(model.parameters(), lr=learning_rate)"
   ]
  },
  {
   "cell_type": "code",
   "execution_count": 9,
   "metadata": {},
   "outputs": [
    {
     "data": {
      "text/plain": [
       "LSTMModel(\n",
       "  (lstm): LSTM(99, 64, batch_first=True)\n",
       "  (fc1): Linear(in_features=64, out_features=32, bias=True)\n",
       "  (fc2): Linear(in_features=32, out_features=32, bias=True)\n",
       "  (fc3): Linear(in_features=32, out_features=4, bias=True)\n",
       ")"
      ]
     },
     "execution_count": 9,
     "metadata": {},
     "output_type": "execute_result"
    }
   ],
   "source": [
    "# 학습 루프\n",
    "device = torch.device('cuda' if torch.cuda.is_available() else 'cpu')\n",
    "model.to(device)"
   ]
  },
  {
   "cell_type": "code",
   "execution_count": 10,
   "metadata": {},
   "outputs": [
    {
     "ename": "NameError",
     "evalue": "name 'summary' is not defined",
     "output_type": "error",
     "traceback": [
      "\u001b[0;31m---------------------------------------------------------------------------\u001b[0m",
      "\u001b[0;31mNameError\u001b[0m                                 Traceback (most recent call last)",
      "Cell \u001b[0;32mIn[10], line 1\u001b[0m\n\u001b[0;32m----> 1\u001b[0m \u001b[43msummary\u001b[49m(model, torch\u001b[38;5;241m.\u001b[39mzeros((\u001b[38;5;241m1\u001b[39m,\u001b[38;5;241m30\u001b[39m,\u001b[38;5;241m99\u001b[39m)))\n",
      "\u001b[0;31mNameError\u001b[0m: name 'summary' is not defined"
     ]
    }
   ],
   "source": [
    "summary(model, torch.zeros((1,30,99)))"
   ]
  },
  {
   "cell_type": "code",
   "execution_count": 10,
   "metadata": {},
   "outputs": [
    {
     "name": "stdout",
     "output_type": "stream",
     "text": [
      "Epoch [1/30], Loss: 1.2931, Accuracy: 53.54%, Val Loss: 1.0950, Val Accuracy: 95.21%\n",
      "Epoch [2/30], Loss: 0.8737, Accuracy: 99.09%, Val Loss: 0.7529, Val Accuracy: 100.00%\n",
      "Epoch [3/30], Loss: 0.7475, Accuracy: 100.00%, Val Loss: 0.7453, Val Accuracy: 100.00%\n",
      "Epoch [4/30], Loss: 0.7448, Accuracy: 100.00%, Val Loss: 0.7445, Val Accuracy: 100.00%\n",
      "Epoch [5/30], Loss: 0.7443, Accuracy: 100.00%, Val Loss: 0.7442, Val Accuracy: 100.00%\n",
      "Epoch [6/30], Loss: 0.7441, Accuracy: 100.00%, Val Loss: 0.7440, Val Accuracy: 100.00%\n",
      "Epoch [7/30], Loss: 0.7440, Accuracy: 100.00%, Val Loss: 0.7439, Val Accuracy: 100.00%\n",
      "Epoch [8/30], Loss: 0.7439, Accuracy: 100.00%, Val Loss: 0.7439, Val Accuracy: 100.00%\n",
      "Epoch [9/30], Loss: 0.7438, Accuracy: 100.00%, Val Loss: 0.7438, Val Accuracy: 100.00%\n",
      "Epoch [10/30], Loss: 0.7438, Accuracy: 100.00%, Val Loss: 0.7438, Val Accuracy: 100.00%\n",
      "Epoch [11/30], Loss: 0.7438, Accuracy: 100.00%, Val Loss: 0.7438, Val Accuracy: 100.00%\n",
      "Epoch [12/30], Loss: 0.7438, Accuracy: 100.00%, Val Loss: 0.7438, Val Accuracy: 100.00%\n",
      "Epoch [13/30], Loss: 0.7438, Accuracy: 100.00%, Val Loss: 0.7437, Val Accuracy: 100.00%\n",
      "Epoch [14/30], Loss: 0.7437, Accuracy: 100.00%, Val Loss: 0.7437, Val Accuracy: 100.00%\n",
      "Epoch [15/30], Loss: 0.7437, Accuracy: 100.00%, Val Loss: 0.7437, Val Accuracy: 100.00%\n",
      "Epoch [16/30], Loss: 0.7437, Accuracy: 100.00%, Val Loss: 0.7437, Val Accuracy: 100.00%\n",
      "Epoch [17/30], Loss: 0.7437, Accuracy: 100.00%, Val Loss: 0.7437, Val Accuracy: 100.00%\n",
      "Epoch [18/30], Loss: 0.7437, Accuracy: 100.00%, Val Loss: 0.7437, Val Accuracy: 100.00%\n",
      "Epoch [19/30], Loss: 0.7437, Accuracy: 100.00%, Val Loss: 0.7437, Val Accuracy: 100.00%\n",
      "Epoch [20/30], Loss: 0.7437, Accuracy: 100.00%, Val Loss: 0.7437, Val Accuracy: 100.00%\n",
      "Epoch [21/30], Loss: 0.7437, Accuracy: 100.00%, Val Loss: 0.7437, Val Accuracy: 100.00%\n",
      "Epoch [22/30], Loss: 0.7437, Accuracy: 100.00%, Val Loss: 0.7437, Val Accuracy: 100.00%\n",
      "Epoch [23/30], Loss: 0.7437, Accuracy: 100.00%, Val Loss: 0.7437, Val Accuracy: 100.00%\n",
      "Epoch [24/30], Loss: 0.7437, Accuracy: 100.00%, Val Loss: 0.7437, Val Accuracy: 100.00%\n",
      "Epoch [25/30], Loss: 0.7437, Accuracy: 100.00%, Val Loss: 0.7437, Val Accuracy: 100.00%\n",
      "Epoch [26/30], Loss: 0.7437, Accuracy: 100.00%, Val Loss: 0.7437, Val Accuracy: 100.00%\n",
      "Epoch [27/30], Loss: 0.7437, Accuracy: 100.00%, Val Loss: 0.7437, Val Accuracy: 100.00%\n",
      "Epoch [28/30], Loss: 0.7437, Accuracy: 100.00%, Val Loss: 0.7437, Val Accuracy: 100.00%\n",
      "Epoch [29/30], Loss: 0.7437, Accuracy: 100.00%, Val Loss: 0.7437, Val Accuracy: 100.00%\n",
      "Epoch [30/30], Loss: 0.7437, Accuracy: 100.00%, Val Loss: 0.7437, Val Accuracy: 100.00%\n",
      "모델 저장 완료\n"
     ]
    }
   ],
   "source": [
    "# 에폭당 정확도와 손실을 저장할 리스트\n",
    "train_loss_list = []\n",
    "val_loss_list = []\n",
    "train_acc_list = []\n",
    "val_acc_list = []\n",
    "\n",
    "for epoch in range(epochs):\n",
    "    model.train()\n",
    "    running_loss = 0.0\n",
    "    correct = 0\n",
    "    total = 0\n",
    "    \n",
    "    # Training loop\n",
    "    for i, (inputs, labels) in enumerate(train_loader):\n",
    "        inputs, labels = inputs.to(device), labels.to(device)\n",
    "        \n",
    "        # Optimizer 초기화\n",
    "        optimizer.zero_grad()\n",
    "\n",
    "        # Forward pass\n",
    "        outputs = model(inputs)\n",
    "        loss = criterion(outputs, labels)\n",
    "\n",
    "        # Backward pass and optimization\n",
    "        loss.backward()\n",
    "        optimizer.step()\n",
    "\n",
    "        # Loss 및 accuracy 기록\n",
    "        running_loss += loss.item()\n",
    "        _, predicted = torch.max(outputs.data, 1)\n",
    "        total += labels.size(0)\n",
    "        correct += (predicted == labels).sum().item()\n",
    "\n",
    "    # 에폭당 평균 학습 손실과 정확도 계산\n",
    "    epoch_loss = running_loss / len(train_loader)\n",
    "    epoch_acc = 100 * correct / total\n",
    "\n",
    "    train_loss_list.append(epoch_loss)\n",
    "    train_acc_list.append(epoch_acc)\n",
    "\n",
    "    # Validation loop\n",
    "    model.eval()  # 검증 중에는 dropout 등을 끄기 위해서 eval 모드로 전환\n",
    "    val_running_loss = 0.0\n",
    "    val_correct = 0\n",
    "    val_total = 0\n",
    "    \n",
    "    with torch.no_grad():  # 검증 시에는 gradient를 계산하지 않음\n",
    "        for inputs, labels in val_loader:\n",
    "            inputs, labels = inputs.to(device), labels.to(device)\n",
    "\n",
    "            # Forward pass\n",
    "            outputs = model(inputs)\n",
    "            val_loss = criterion(outputs, labels)\n",
    "\n",
    "            # Loss 및 accuracy 기록\n",
    "            val_running_loss += val_loss.item()\n",
    "            _, predicted = torch.max(outputs.data, 1)\n",
    "            val_total += labels.size(0)\n",
    "            val_correct += (predicted == labels).sum().item()\n",
    "\n",
    "    # 에폭당 평균 검증 손실과 정확도 계산\n",
    "    val_epoch_loss = val_running_loss / len(val_loader)\n",
    "    val_epoch_acc = 100 * val_correct / val_total\n",
    "\n",
    "    val_loss_list.append(val_epoch_loss)\n",
    "    val_acc_list.append(val_epoch_acc)\n",
    "\n",
    "    # 학습 및 검증 결과 출력\n",
    "    print(f\"Epoch [{epoch+1}/{epochs}], Loss: {epoch_loss:.4f}, Accuracy: {epoch_acc:.2f}%, \"\n",
    "          f\"Val Loss: {val_epoch_loss:.4f}, Val Accuracy: {val_epoch_acc:.2f}%\")\n",
    "\n",
    "# 모델 저장\n",
    "torch.save(model.state_dict(), 'models/gesture_model.pth')\n",
    "print(\"모델 저장 완료\")"
   ]
  },
  {
   "cell_type": "code",
   "execution_count": 11,
   "metadata": {},
   "outputs": [],
   "source": [
    "model_scripted = torch.jit.script(model)\n",
    "model_scripted.save('models/gesture_model_scr.pt')"
   ]
  },
  {
   "cell_type": "code",
   "execution_count": 12,
   "metadata": {},
   "outputs": [
    {
     "data": {
      "image/png": "[encoded data removed]",
      "text/plain": [
       "<Figure size 1152x720 with 2 Axes>"
      ]
     },
     "metadata": {
      "needs_background": "light"
     },
     "output_type": "display_data"
    }
   ],
   "source": [
    "fig, loss_ax = plt.subplots(figsize=(16, 10))\n",
    "acc_ax = loss_ax.twinx()\n",
    "\n",
    "loss_ax.plot(train_loss_list, 'y', label='train loss')\n",
    "loss_ax.plot(val_loss_list, 'r', label='val loss')\n",
    "loss_ax.set_xlabel('epoch')\n",
    "loss_ax.set_ylabel('loss')\n",
    "loss_ax.legend(loc='upper left')\n",
    "\n",
    "acc_ax.plot(train_acc_list, 'b', label='train acc')\n",
    "acc_ax.plot(val_acc_list, 'g', label='val acc')\n",
    "acc_ax.set_ylabel('accuracy')\n",
    "acc_ax.legend(loc='upper left')\n",
    "\n",
    "plt.show()"
   ]
  }
 ],
 "metadata": {
  "kernelspec": {
   "display_name": "test",
   "language": "python",
   "name": "test"
  },
  "language_info": {
   "codemirror_mode": {
    "name": "ipython",
    "version": 3
   },
   "file_extension": ".py",
   "mimetype": "text/x-python",
   "name": "python",
   "nbconvert_exporter": "python",
   "pygments_lexer": "ipython3",
   "version": "3.6.15"
  }
 },
 "nbformat": 4,
 "nbformat_minor": 4
}
